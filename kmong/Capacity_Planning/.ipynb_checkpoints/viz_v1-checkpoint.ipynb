{
 "cells": [
  {
   "cell_type": "code",
   "execution_count": null,
   "metadata": {},
   "outputs": [],
   "source": [
    "import matplotlib.pyplot as plt\n",
    "true = [1,2,3,4]\n",
    "pred = [4,1,2,2]\n",
    "\n",
    "clrs = ['blue' if (x-y>=0) else 'red' for x,y in zip(true,pred)]\n",
    "ax1 = plt.bar(true, true, color =clrs)\n",
    "ax2 = plt.plot(true, pred)\n",
    "\n",
    "\n",
    "for i in range(len(true)):\n",
    "    if true[i]-pred[i] <=0:\n",
    "        plt.annotate(str(true[i]), xy=(true[i],true[i]), ha='center', va='bottom')\n",
    "\n",
    "plt.show()"
   ]
  }
 ],
 "metadata": {
  "kernelspec": {
   "display_name": "Python 3",
   "language": "python",
   "name": "python3"
  },
  "language_info": {
   "codemirror_mode": {
    "name": "ipython",
    "version": 3
   },
   "file_extension": ".py",
   "mimetype": "text/x-python",
   "name": "python",
   "nbconvert_exporter": "python",
   "pygments_lexer": "ipython3",
   "version": "3.6.9"
  }
 },
 "nbformat": 4,
 "nbformat_minor": 4
}
