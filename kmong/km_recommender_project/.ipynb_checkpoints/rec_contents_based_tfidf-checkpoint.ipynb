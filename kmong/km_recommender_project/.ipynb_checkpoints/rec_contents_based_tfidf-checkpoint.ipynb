{
 "cells": [
  {
   "cell_type": "markdown",
   "id": "78988634",
   "metadata": {},
   "source": [
    "# 필요한 라이브러리 및 모듈"
   ]
  },
  {
   "cell_type": "code",
   "execution_count": 1,
   "id": "75310070",
   "metadata": {},
   "outputs": [],
   "source": [
    "import pandas as pd\n",
    "from konlpy.tag import Okt\n",
    "from sklearn.feature_extraction.text import TfidfVectorizer\n",
    "from sklearn.metrics.pairwise import cosine_similarity\n",
    "from gensim.models import Word2Vec\n",
    "from gensim.models import doc2vec\n",
    "from sklearn import preprocessing\n",
    "from sklearn.preprocessing import LabelEncoder\n",
    "from sklearn.model_selection import train_test_split\n",
    "import ast\n",
    "import numpy as np\n",
    "import math\n",
    "\n",
    "def preprocessing(x, stop_words):\n",
    "    okt = Okt()\n",
    "    try:\n",
    "        sentence_tokens = okt.nouns(x)\n",
    "        result = ''\n",
    "        #result = []\n",
    "        for token in sentence_tokens: \n",
    "            if token not in stop_words:\n",
    "                result += ' ' + token \n",
    "                #result.append(token)\n",
    "        return result\n",
    "    except:\n",
    "        return '없음'\n",
    "    \n",
    "def rm_whitespace(x):\n",
    "    result = []\n",
    "    for i in x:\n",
    "        if i != '':\n",
    "            result.append(i)\n",
    "        else:\n",
    "            pass\n",
    "    return result\n",
    "    \n",
    "# evaluation metrices: Precision, Recall, NDCG@K\n",
    "def compute_metrics(pred_u, target_u, top_k):\n",
    "    pred_k = pred_u[:top_k]\n",
    "    num_target_items = len(target_u)\n",
    "\n",
    "    hits_k = [(i + 1, item) for i, item in enumerate(pred_k) if item in target_u]\n",
    "    # print(\"실제로 맞춘 items (position, idx):\", hits_k)\n",
    "    num_hits = len(hits_k)\n",
    "\n",
    "    idcg_k = 0.0\n",
    "    for i in range(1, min(num_target_items, top_k) + 1):\n",
    "        idcg_k += 1 / math.log(i + 1, 2)\n",
    "\n",
    "    dcg_k = 0.0\n",
    "    for idx, item in hits_k:\n",
    "        dcg_k += 1 / math.log(idx + 1, 2)\n",
    "    \n",
    "    prec_k = num_hits / top_k\n",
    "    recall_k = num_hits / min(num_target_items, top_k)\n",
    "    ndcg_k = dcg_k / idcg_k\n",
    "\n",
    "    return prec_k, recall_k, ndcg_k"
   ]
  },
  {
   "cell_type": "markdown",
   "id": "8d61162c",
   "metadata": {},
   "source": [
    "# 조건 설정하는 법\n",
    "    \n",
    "    1. 몇 편 이상의 유저로 사용할지\n",
    "        - 데이터 전처리 파트에 #### code ####와 같이 존재하는 부분으로 이동\n",
    "        - 아래 코드에 존재하는 숫자가 몇 편 이상으로 할지 선정\n",
    "            df_user_watch.loc[df_user_watch['cnt_watch']>=10].index\n",
    "    2. train-test 분리하는 법\n",
    "        - 데이터 전처리 파트에 마찬가지로 #### code ####와 같이 존재하는 부분으로 이동\n",
    "        - 랜덤 버전을 할 경우 #랜덤버전 아래의 코드 한줄만 앞의 코드에 #이 없도록 실행\n",
    "\n",
    "          train, test = train_test_split(df, test_size=0.2, stratify=df['userr'],random_state = 1234)\n",
    "          #flag_range = int(df.shape[0]*80)\n",
    "          #df= df.sort_values(by=['year','month','day','hour','min','sec'],ascending=True)\n",
    "          #train = df[:flag_range]\n",
    "          #test = df[flag_range:]\n",
    "\n",
    "        - 기간 선택 버전을 할 경우, #시간 선택 버전 아래의 코드들만 #을 없애고 실행\n",
    "          \n",
    "          #train, test = train_test_split(df, test_size=0.2, stratify=df['userr'],random_state = 1234)\n",
    "          flag_range = int(df.shape[0]*80)\n",
    "          df= df.sort_values(by=['year','month','day','hour','min','sec'],ascending=True)\n",
    "          train = df[:flag_range]\n",
    "          test = df[flag_range:]   \n",
    "     3. 이전에 시청한 영화를 평가에 포함할지\n",
    "         - 유저 평가하기 파트에 마찬가지로 #### code ####와 같이 존재하는 부분으로 이동\n",
    "         - 포함 시킬 경우, 아래와 같이 진행(진행할 코드에만 #을 제거)\n",
    "\n",
    "            #테스트할때 이전에 시청한 콘텐츠는 제외하고 평가하는것과 포함하여 평가하는것\n",
    "            # 특정 user가 본 영화들 제외\n",
    "            #train_items_by_user = train.loc[train.userr==user_id]\n",
    "            #unique_items = unique_items[~unique_items['iitem1'].isin(train_items_by_user['iitem1'])]\n",
    "            unique_items = unique_items\n",
    "            \n",
    "        - 미포함 시킬 경우, 아래와 같이 진행\n",
    "        \n",
    "            #테스트할때 이전에 시청한 콘텐츠는 제외하고 평가하는것과 포함하여 평가하는것\n",
    "            # 특정 user가 본 영화들 제외\n",
    "            train_items_by_user = train.loc[train.userr==user_id]\n",
    "            unique_items = unique_items[~unique_items['iitem1'].isin(train_items_by_user['iitem1'])]\n",
    "            #unique_items = unique_items\n",
    "    4. 변수 추가\n",
    "        - 해당 경우는 워낙 경우의 수가 많아서 완전하게 해드릴 수는 없을 것 같구요. 기본적으로 추가하는 방법을 알려드리지만,\n",
    "        오류가 나면 저한테 알려주시거나 한번 해결해보세요. \n",
    "        - 설명은 적어놓았는데 다음과 같습니다.\n",
    "\n",
    "           0. 아래의 과정들을 진행했는데도 오류가 난다면, 데이터 안에 값 자체를 전처리해주어야 합니다.\n",
    "                null,nan과 같은 결측값을 대체해주거나, 문자나 리스트와 같은 값들로 변경해주어야 합니다.\n",
    "                df['genre'] = df['genre'].apply(lambda x: x.split(\"|\"))\n",
    "                df['genre'] = df['genre'].apply(lambda x: rm_whitespace(x))\n",
    "                df['actors'] = df['actors'].fillna('없음')\n",
    "           1. 데이터 전처리 ~ 유저 평가하기 이전 까지의 코드 중에 수정할 곳들이 존재합니다\n",
    "           2. \"# n단계 조건 : 새로운 변수 추가\" 라는 주석이 존재하는 곳에 갑니다\n",
    "           3. \"# new_feature = 'genre_people_country'#<<여기에 해당 형식으로 추가\" 아래의 내용을 참고해서 코드를 완료합니다\n",
    "           4. 컬럼 안에 값의 종류에 따라 각기 다른 코드를 수정해야 해서 이 부분만 주의해서 반영해주세요\n",
    "           \n",
    "              # 경우의 수 1 - 컬럼의 값이 장르처럼 리스트일 경우, ['코미디','드라마']\n",
    "              # columns = x['column']#<< 여기에 추가할 컬럼명 추가\n",
    "              #for column in columns:\n",
    "              #    result += ' ' + column        \n",
    "\n",
    "              # 경우의 수 2 - 컬럼의 값이 국가처럼 문자일 경우, '한국'\n",
    "              # result += ' ' + x['summary']#<< 여기에 추가할 컬럼명 추가"
   ]
  },
  {
   "cell_type": "markdown",
   "id": "44c2a9b4",
   "metadata": {},
   "source": [
    "# 데이터 불러오기"
   ]
  },
  {
   "cell_type": "code",
   "execution_count": 2,
   "id": "31993c87",
   "metadata": {},
   "outputs": [],
   "source": [
    "# 데이터가 커서 길이를 설정해놓았습니다. nrows=10000 자체를 없애거나 숫자를 변경해서 데이터 크기를 조정해보세요.\n",
    "df = pd.read_csv('test2.csv', nrows = 100000)\n",
    "df_stopwords = pd.read_csv('data/한국어불용어100.txt',sep='\\t', header=None,names=['words','b','c'])\n",
    "lst_words = df_stopwords['words'].values"
   ]
  },
  {
   "cell_type": "code",
   "execution_count": 3,
   "id": "c71a7473",
   "metadata": {},
   "outputs": [],
   "source": [
    "df.columns = ['userr','iitem1','ttime',\n",
    "             'title','subtitle','main_genre','genre',\n",
    "             'keyword','actors','country','price','summary']"
   ]
  },
  {
   "cell_type": "markdown",
   "id": "56582870",
   "metadata": {},
   "source": [
    "# 데이터 전처리"
   ]
  },
  {
   "cell_type": "code",
   "execution_count": 4,
   "id": "9807db66",
   "metadata": {},
   "outputs": [],
   "source": [
    "# 1단계 조건 : 새로운 변수 추가\n",
    "def preprocessing_(x):\n",
    "    \n",
    "    \n",
    "    result = ''\n",
    "    \n",
    "    genres = x['genre']\n",
    "    for genre in genres:\n",
    "        result += ' ' + genre \n",
    "\n",
    "    result += ' ' + x['country']\n",
    "    result += ' ' + x['summary']\n",
    "    \n",
    "    # 경우의 수 1 - 컬럼의 값이 장르처럼 리스트일 경우, ['코미디','드라마']\n",
    "    # columns = x['column']#<< 여기에 추가할 컬럼명 추가\n",
    "    #for column in columns:\n",
    "    #    result += ' ' + column        \n",
    "\n",
    "    # 경우의 수 2 - 컬럼의 값이 국가처럼 문자일 경우, '한국'\n",
    "    # result += ' ' + x['column']#<< 여기에 추가할 컬럼명 추가\n",
    "    return result"
   ]
  },
  {
   "cell_type": "code",
   "execution_count": 5,
   "id": "5d37f91c",
   "metadata": {},
   "outputs": [],
   "source": [
    "df['summary'] = df['summary'].str.replace(\"[^ㄱ-ㅎㅏ-ㅣ가-힣 ]\",\"\")\n",
    "df['summary'] = df['summary'].apply(lambda x: preprocessing(x, lst_words))\n",
    "\n",
    "# 1회 이상 시청 고객\n",
    "df_user_watch=pd.DataFrame(df['userr'].value_counts())\n",
    "df_user_watch.columns=['cnt_watch']\n",
    "#######################################################################################################\n",
    "# 학습데이터를 몇 편이상을 시청한 user로쓸지\n",
    "lst_user_real = df_user_watch.loc[df_user_watch['cnt_watch']>=10].index\n",
    "#######################################################################################################\n",
    "\n",
    "df = df.loc[df['userr'].isin(lst_user_real)]\n",
    "\n",
    "# 유저 아이디 인코딩\n",
    "\n",
    "le = LabelEncoder()\n",
    "df['userr'] = le.fit_transform(df['userr']).astype(int)\n",
    "\n",
    "df['genre'] = df['genre'].apply(lambda x: x.split(\"|\"))\n",
    "df['genre'] = df['genre'].apply(lambda x: rm_whitespace(x))\n",
    "df['actors'] = df['actors'].fillna('없음')\n",
    "df['country'] = df['country'].fillna('없음')\n",
    "df['genre'] = df['genre'].fillna('없음')\n",
    "df['year']=df['ttime'].apply(lambda x: str(x)[:4])\n",
    "df['month']=df['ttime'].apply(lambda x: str(x)[4:6])\n",
    "df['day']=df['ttime'].apply(lambda x: str(x)[6:8])\n",
    "df['hour']=df['ttime'].apply(lambda x: str(x)[8:10])\n",
    "df['min']=df['ttime'].apply(lambda x: str(x)[10:12])\n",
    "df['sec']=df['ttime'].apply(lambda x: str(x)[12:])\n",
    "\n",
    "df['comebine_col'] = df.apply(lambda x: preprocessing_(x), axis=1)"
   ]
  },
  {
   "cell_type": "code",
   "execution_count": 6,
   "id": "7d08e517",
   "metadata": {},
   "outputs": [
    {
     "name": "stdout",
     "output_type": "stream",
     "text": [
      "# of users: 1727, # of items: 719\n"
     ]
    }
   ],
   "source": [
    "# 전체 데이터셋의 user, item 수 확인\n",
    "user_list = list(df['userr'].unique())\n",
    "item_list = list(df['iitem1'].unique())\n",
    "num_users = len(user_list)\n",
    "num_items = len(item_list)\n",
    "print(f\"# of users: {num_users}, # of items: {num_items}\")\n",
    "\n",
    "# train, test set 나누기\n",
    "train, test = train_test_split(df, test_size=0.2, stratify=df['userr'],random_state = 1234)\n",
    "#######################################################################################################\n",
    "#train-test는 랜덤버전과 \n",
    "#랜덤버전\n",
    "train, test = train_test_split(df, test_size=0.2, stratify=df['userr'],random_state = 1234)\n",
    "#시간 선택 버전\n",
    "#flag_range = int(df.shape[0]*80)\n",
    "#df= df.sort_values(by=['year','month','day','hour','min','sec'],ascending=True)\n",
    "#train = df[:flag_range]\n",
    "#test = df[flag_range:]\n",
    "#######################################################################################################\n",
    "\n",
    "# 전체 데이터셋을 돌면서 모든 종류의 영화 장르, 국가, 배우 확인\n",
    "\n",
    "\n",
    "# genre, country, people\n",
    "selected_features = [\"genre\", \"country\", \"actors\", \"summary\"]\n",
    "all_genre_list = []\n",
    "all_country_list = []\n",
    "all_people_list = []\n",
    "all_plot_list = []\n",
    "\n",
    "for index, row in train.iterrows():\n",
    "    genres = row[\"genre\"]\n",
    "    coutries = row[\"country\"]\n",
    "    people = row[\"actors\"]\n",
    "    plots = row[\"summary\"]\n",
    "    #genres = ast.literal_eval(genres)\n",
    "    #coutries = ast.literal_eval(coutries)\n",
    "    #people = ast.literal_eval(people)\n",
    "    for genre in genres:\n",
    "        if genre not in all_genre_list:\n",
    "            all_genre_list.append(genre)\n",
    "    for country in coutries:\n",
    "        if country not in all_country_list:\n",
    "            all_country_list.append(country)\n",
    "    #print(people)\n",
    "    for person in people:\n",
    "        if person not in all_people_list:\n",
    "            all_people_list.append(person)\n",
    "    for plot in plots:\n",
    "        if plot not in all_plot_list:\n",
    "            all_plot_list.append(plot)\n",
    "num_genres = len(all_genre_list)\n",
    "num_countries = len(all_country_list)\n",
    "num_people = len(all_people_list)\n",
    "num_plot = len(all_plot_list)\n",
    "\n",
    "\n",
    "tfidf = TfidfVectorizer(min_df = 10, sublinear_tf = True, max_features=50)\n",
    "tfidf_matrix = tfidf.fit_transform(train['comebine_col'].astype(str))\n",
    "cosine_sim = cosine_similarity(tfidf_matrix, tfidf_matrix)\n",
    "title_to_index = dict(zip(train['title'], train.index))\n",
    "\n",
    "tfidf_vector = []\n",
    "for val in np.array(tfidf_matrix.todense()):\n",
    "    tfidf_vector.append(val)\n",
    "train['tfidf_vector'] = tfidf_vector   "
   ]
  },
  {
   "cell_type": "code",
   "execution_count": 7,
   "id": "964ae971",
   "metadata": {},
   "outputs": [],
   "source": [
    "grouped_sum = train.groupby('userr')['tfidf_vector'].apply(lambda x: [sum(y) for y in zip(*x)])\n",
    "num_features = len(train['tfidf_vector'].iloc[0])\n",
    "\n",
    "user_bin = {}\n",
    "for user_idx in user_list:\n",
    "    total_bin = np.zeros(num_features)\n",
    "    num_dim = int(len(grouped_sum[user_idx])/num_features)\n",
    "\n",
    "    for i in range(num_dim):\n",
    "        one_movie = np.array(grouped_sum[user_idx][i*num_features:(i+1)*num_features])\n",
    "        zipped_lists = zip(total_bin, one_movie)\n",
    "        total_bin = [x + y for (x, y) in zipped_lists]\n",
    "\n",
    "    total_bin = np.array(total_bin)\n",
    "    user_bin[user_idx] = (total_bin, num_dim)"
   ]
  },
  {
   "cell_type": "markdown",
   "id": "ff5db374",
   "metadata": {},
   "source": [
    "## 특정 유저에 대해서 평가하기"
   ]
  },
  {
   "cell_type": "code",
   "execution_count": 8,
   "id": "867d47a0",
   "metadata": {},
   "outputs": [
    {
     "name": "stdout",
     "output_type": "stream",
     "text": [
      "# of movies watched by user 10: 1\n",
      "Precison@200: 0.0000\n",
      "Recall@200: 0.0000\n",
      "NDCG@200: 0.0000\n"
     ]
    }
   ],
   "source": [
    "# 특정 user의 one-hot vector 확인해보기\n",
    "user_id = 10\n",
    "total_bin = user_bin[user_id][0]\n",
    "num_movies = user_bin[user_id][1]\n",
    "print(f\"# of movies watched by user {user_id}: {num_movies}\")\n",
    "#print(\"one-hot vector:\", total_bin)\n",
    "#print(\"normalized one-hot vector:\", total_bin / num_movies)\n",
    "\n",
    "\n",
    "# combined one-hot vector를 가지고 다른 item들과의 cosine similarity 계산\n",
    "norm_bin = total_bin / num_movies\n",
    "\n",
    "# unique item 추리기\n",
    "unique_items = train[['iitem1', 'title', 'genre', 'country', 'tfidf_vector']].drop_duplicates(['iitem1'])\n",
    "\n",
    "#############################################################################\n",
    "#테스트할때 이전에 시청한 콘텐츠는 제외하고 평가하는것과 포함하여 평가하는것\n",
    "# 특정 user가 본 영화들 제외\n",
    "train_items_by_user = train.loc[train.userr==user_id]\n",
    "unique_items = unique_items[~unique_items['iitem1'].isin(train_items_by_user['iitem1'])]\n",
    "#unique_items = unique_items\n",
    "#############################################################################\n",
    "unique_items['similarity'] = unique_items['tfidf_vector'].apply(lambda x: np.array(x).dot(norm_bin) / (np.array(x).sum() + 1e-10))\n",
    "unique_items.head()\n",
    "\n",
    "# cosine similarity를 토대로 top-k item 구하기\n",
    "sorted_items = unique_items.sort_values(by=['similarity'], axis=0, ascending=False)\n",
    "sorted_items.head()\n",
    "\n",
    "top_k = 10\n",
    "top_k_items = list(sorted_items['iitem1'][:top_k])\n",
    "top_item_df = sorted_items[['iitem1', 'title', 'genre']].drop_duplicates(['iitem1'])\n",
    "# 예측한 top-k items\n",
    "top_item_df[top_item_df['iitem1'].isin(top_k_items[:top_k])]\n",
    "\n",
    "# user가 실제로 본 영화들\n",
    "user_id = 10\n",
    "test_items_by_user = test.loc[test.userr==user_id]\n",
    "test_items_by_user[['userr', 'iitem1', 'title', 'genre']]\n",
    "\n",
    "# user 한 명에 대한 평가\n",
    "top_k = 200\n",
    "pred_u = list(sorted_items['iitem1'])\n",
    "target_u = list(test_items_by_user['iitem1'])\n",
    "\n",
    "prec, recall, ndcg = compute_metrics(pred_u, target_u, top_k)\n",
    "print(f\"Precison@{top_k}: {prec:.4f}\")\n",
    "print(f\"Recall@{top_k}: {recall:.4f}\")\n",
    "print(f\"NDCG@{top_k}: {ndcg:.4f}\")"
   ]
  },
  {
   "cell_type": "markdown",
   "id": "645b0339",
   "metadata": {},
   "source": [
    "## 전체 유저에 대해서 평가하기"
   ]
  },
  {
   "cell_type": "code",
   "execution_count": 9,
   "id": "28a8fcaa",
   "metadata": {},
   "outputs": [
    {
     "name": "stderr",
     "output_type": "stream",
     "text": [
      "C:\\Users\\admin\\anaconda3\\lib\\site-packages\\ipykernel_launcher.py:23: SettingWithCopyWarning: \n",
      "A value is trying to be set on a copy of a slice from a DataFrame.\n",
      "Try using .loc[row_indexer,col_indexer] = value instead\n",
      "\n",
      "See the caveats in the documentation: https://pandas.pydata.org/pandas-docs/stable/user_guide/indexing.html#returning-a-view-versus-a-copy\n"
     ]
    },
    {
     "name": "stdout",
     "output_type": "stream",
     "text": [
      "Precision@200: 0.0011\n",
      "Recall@200: 0.0805\n",
      "NDCG@200: 0.0303\n"
     ]
    }
   ],
   "source": [
    "# 전체 user에 대한 평가\n",
    "top_k = 200\n",
    "prec_list = []\n",
    "recall_list = []\n",
    "ndcg_list = []\n",
    "\n",
    "# unique item 추리기\n",
    "ori_unique_items = train[['iitem1', 'title', 'genre', 'country', 'tfidf_vector']].drop_duplicates(['iitem1'])\n",
    "\n",
    "for user_id in user_list:\n",
    "    total_bin = user_bin[user_id][0]\n",
    "    num_movies = user_bin[user_id][1]\n",
    "\n",
    "    # combined one-hot vector를 가지고 다른 item들과의 cosine similarity 계산\n",
    "    norm_bin = total_bin / num_movies\n",
    "    #############################################################################\n",
    "    #테스트할때 이전에 시청한 콘텐츠는 제외하고 평가하는것과 포함하여 평가하는것\n",
    "    # 특정 user가 본 영화들 제외\n",
    "    train_items_by_user = train.loc[train.userr==user_id]\n",
    "    unique_items = ori_unique_items[~ori_unique_items['iitem1'].isin(train_items_by_user['iitem1'])]\n",
    "    #unique_items = unique_items\n",
    "    #############################################################################\n",
    "    unique_items['similarity'] = unique_items['tfidf_vector'].apply(lambda x: np.array(x).dot(norm_bin) / (np.array(x).sum() + 1e-10))\n",
    "\n",
    "    # cosine similarity를 토대로 top-k item 구하기\n",
    "    sorted_items = unique_items.sort_values(by=['similarity'], axis=0, ascending=False)\n",
    "\n",
    "    test_items_by_user = test.loc[test.userr==user_id]\n",
    "    pred_u = list(sorted_items['iitem1'])\n",
    "    target_u = list(test_items_by_user['iitem1'])\n",
    "\n",
    "    prec, recall, ndcg = compute_metrics(pred_u, target_u, top_k)\n",
    "    prec_list.append(prec)\n",
    "    recall_list.append(recall)\n",
    "    ndcg_list.append(ndcg)\n",
    "\n",
    "print(f\"Precision@{top_k}: {np.mean(prec_list):.4f}\")\n",
    "print(f\"Recall@{top_k}: {np.mean(recall_list):.4f}\")\n",
    "print(f\"NDCG@{top_k}: {np.mean(ndcg_list):.4f}\")"
   ]
  },
  {
   "cell_type": "markdown",
   "id": "384352af",
   "metadata": {},
   "source": [
    "# tf idf 시각화 "
   ]
  },
  {
   "cell_type": "code",
   "execution_count": 10,
   "id": "8dc109ef",
   "metadata": {},
   "outputs": [],
   "source": [
    "import pandas as pd\n",
    "import matplotlib.font_manager as fm\n",
    "import matplotlib.pyplot as plt\n",
    "from future.utils import iteritems\n",
    "from collections import Counter\n",
    "from sklearn.manifold import TSNE\n",
    "from sklearn.feature_extraction.text import TfidfVectorizer\n",
    "from sklearn.feature_extraction.text import CountVectorizer"
   ]
  },
  {
   "cell_type": "code",
   "execution_count": 11,
   "id": "a46a2c18",
   "metadata": {},
   "outputs": [
    {
     "data": {
      "text/plain": [
       "array([1.92202764, 3.26196177, 3.9303388 , 4.0032282 , 3.18319695,\n",
       "       3.27154481, 3.45030638, 4.39910268, 4.6838522 , 3.04840126,\n",
       "       2.29598978, 1.7440475 , 3.27762603, 4.0874804 , 3.19435925,\n",
       "       3.24862824, 4.25284969, 4.02193432, 3.95971154, 4.03792248,\n",
       "       4.17244109, 3.16187831, 3.42379525, 4.19194526, 3.65863484,\n",
       "       3.25562372, 2.3328256 , 3.11994476, 4.17507846, 3.45201359,\n",
       "       3.30012335, 3.03283123, 3.3186424 , 3.18810614, 4.20455804,\n",
       "       3.05441072, 2.47417899, 3.35985388, 4.00471188, 3.24098931,\n",
       "       4.64931639, 3.19899195, 3.16604165, 1.85158668, 4.22101179,\n",
       "       3.2241822 , 4.60775916, 4.42363011, 1.36788421, 4.16544194])"
      ]
     },
     "execution_count": 11,
     "metadata": {},
     "output_type": "execute_result"
    }
   ],
   "source": [
    "tfidf.idf_"
   ]
  },
  {
   "cell_type": "code",
   "execution_count": 12,
   "id": "79944bc2",
   "metadata": {
    "scrolled": true
   },
   "outputs": [
    {
     "name": "stderr",
     "output_type": "stream",
     "text": [
      "C:\\Users\\admin\\anaconda3\\lib\\site-packages\\sklearn\\utils\\deprecation.py:87: FutureWarning: Function get_feature_names is deprecated; get_feature_names is deprecated in 1.0 and will be removed in 1.2. Please use get_feature_names_out instead.\n",
      "  warnings.warn(msg, category=FutureWarning)\n"
     ]
    },
    {
     "data": {
      "text/html": [
       "<div>\n",
       "<style scoped>\n",
       "    .dataframe tbody tr th:only-of-type {\n",
       "        vertical-align: middle;\n",
       "    }\n",
       "\n",
       "    .dataframe tbody tr th {\n",
       "        vertical-align: top;\n",
       "    }\n",
       "\n",
       "    .dataframe thead th {\n",
       "        text-align: right;\n",
       "    }\n",
       "</style>\n",
       "<table border=\"1\" class=\"dataframe\">\n",
       "  <thead>\n",
       "    <tr style=\"text-align: right;\">\n",
       "      <th></th>\n",
       "      <th>tfidf</th>\n",
       "    </tr>\n",
       "  </thead>\n",
       "  <tbody>\n",
       "    <tr>\n",
       "      <th>풍선</th>\n",
       "      <td>0.783576</td>\n",
       "    </tr>\n",
       "    <tr>\n",
       "      <th>에디</th>\n",
       "      <td>0.460972</td>\n",
       "    </tr>\n",
       "    <tr>\n",
       "      <th>선물</th>\n",
       "      <td>0.338317</td>\n",
       "    </tr>\n",
       "    <tr>\n",
       "      <th>tv만화</th>\n",
       "      <td>0.155747</td>\n",
       "    </tr>\n",
       "    <tr>\n",
       "      <th>친구</th>\n",
       "      <td>0.150039</td>\n",
       "    </tr>\n",
       "    <tr>\n",
       "      <th>한국</th>\n",
       "      <td>0.110843</td>\n",
       "    </tr>\n",
       "    <tr>\n",
       "      <th>엄마</th>\n",
       "      <td>0.000000</td>\n",
       "    </tr>\n",
       "    <tr>\n",
       "      <th>뽀롱뽀롱</th>\n",
       "      <td>0.000000</td>\n",
       "    </tr>\n",
       "    <tr>\n",
       "      <th>성장</th>\n",
       "      <td>0.000000</td>\n",
       "    </tr>\n",
       "    <tr>\n",
       "      <th>순이</th>\n",
       "      <td>0.000000</td>\n",
       "    </tr>\n",
       "    <tr>\n",
       "      <th>아기</th>\n",
       "      <td>0.000000</td>\n",
       "    </tr>\n",
       "    <tr>\n",
       "      <th>아이</th>\n",
       "      <td>0.000000</td>\n",
       "    </tr>\n",
       "    <tr>\n",
       "      <th>아주</th>\n",
       "      <td>0.000000</td>\n",
       "    </tr>\n",
       "    <tr>\n",
       "      <th>아홉</th>\n",
       "      <td>0.000000</td>\n",
       "    </tr>\n",
       "    <tr>\n",
       "      <th>위해</th>\n",
       "      <td>0.000000</td>\n",
       "    </tr>\n",
       "    <tr>\n",
       "      <th>없음</th>\n",
       "      <td>0.000000</td>\n",
       "    </tr>\n",
       "    <tr>\n",
       "      <th>겨울</th>\n",
       "      <td>0.000000</td>\n",
       "    </tr>\n",
       "    <tr>\n",
       "      <th>율동</th>\n",
       "      <td>0.000000</td>\n",
       "    </tr>\n",
       "    <tr>\n",
       "      <th>정말</th>\n",
       "      <td>0.000000</td>\n",
       "    </tr>\n",
       "    <tr>\n",
       "      <th>준비</th>\n",
       "      <td>0.000000</td>\n",
       "    </tr>\n",
       "    <tr>\n",
       "      <th>축구</th>\n",
       "      <td>0.000000</td>\n",
       "    </tr>\n",
       "    <tr>\n",
       "      <th>크롱</th>\n",
       "      <td>0.000000</td>\n",
       "    </tr>\n",
       "    <tr>\n",
       "      <th>통통이</th>\n",
       "      <td>0.000000</td>\n",
       "    </tr>\n",
       "    <tr>\n",
       "      <th>핑크퐁</th>\n",
       "      <td>0.000000</td>\n",
       "    </tr>\n",
       "    <tr>\n",
       "      <th>뽀로로</th>\n",
       "      <td>0.000000</td>\n",
       "    </tr>\n",
       "    <tr>\n",
       "      <th>불어</th>\n",
       "      <td>0.000000</td>\n",
       "    </tr>\n",
       "    <tr>\n",
       "      <th>보고</th>\n",
       "      <td>0.000000</td>\n",
       "    </tr>\n",
       "    <tr>\n",
       "      <th>배달</th>\n",
       "      <td>0.000000</td>\n",
       "    </tr>\n",
       "    <tr>\n",
       "      <th>계획</th>\n",
       "      <td>0.000000</td>\n",
       "    </tr>\n",
       "    <tr>\n",
       "      <th>공룡</th>\n",
       "      <td>0.000000</td>\n",
       "    </tr>\n",
       "    <tr>\n",
       "      <th>공연</th>\n",
       "      <td>0.000000</td>\n",
       "    </tr>\n",
       "    <tr>\n",
       "      <th>공연장</th>\n",
       "      <td>0.000000</td>\n",
       "    </tr>\n",
       "    <tr>\n",
       "      <th>교실</th>\n",
       "      <td>0.000000</td>\n",
       "    </tr>\n",
       "    <tr>\n",
       "      <th>꺼병이</th>\n",
       "      <td>0.000000</td>\n",
       "    </tr>\n",
       "    <tr>\n",
       "      <th>꽃잎</th>\n",
       "      <td>0.000000</td>\n",
       "    </tr>\n",
       "    <tr>\n",
       "      <th>날씨</th>\n",
       "      <td>0.000000</td>\n",
       "    </tr>\n",
       "    <tr>\n",
       "      <th>노래</th>\n",
       "      <td>0.000000</td>\n",
       "    </tr>\n",
       "    <tr>\n",
       "      <th>노래율동</th>\n",
       "      <td>0.000000</td>\n",
       "    </tr>\n",
       "    <tr>\n",
       "      <th>노랫소리</th>\n",
       "      <td>0.000000</td>\n",
       "    </tr>\n",
       "    <tr>\n",
       "      <th>놀이</th>\n",
       "      <td>0.000000</td>\n",
       "    </tr>\n",
       "    <tr>\n",
       "      <th>도움</th>\n",
       "      <td>0.000000</td>\n",
       "    </tr>\n",
       "    <tr>\n",
       "      <th>돼지</th>\n",
       "      <td>0.000000</td>\n",
       "    </tr>\n",
       "    <tr>\n",
       "      <th>루피</th>\n",
       "      <td>0.000000</td>\n",
       "    </tr>\n",
       "    <tr>\n",
       "      <th>마샤</th>\n",
       "      <td>0.000000</td>\n",
       "    </tr>\n",
       "    <tr>\n",
       "      <th>망원경</th>\n",
       "      <td>0.000000</td>\n",
       "    </tr>\n",
       "    <tr>\n",
       "      <th>모두</th>\n",
       "      <td>0.000000</td>\n",
       "    </tr>\n",
       "    <tr>\n",
       "      <th>모습</th>\n",
       "      <td>0.000000</td>\n",
       "    </tr>\n",
       "    <tr>\n",
       "      <th>바람</th>\n",
       "      <td>0.000000</td>\n",
       "    </tr>\n",
       "    <tr>\n",
       "      <th>발달</th>\n",
       "      <td>0.000000</td>\n",
       "    </tr>\n",
       "    <tr>\n",
       "      <th>호기</th>\n",
       "      <td>0.000000</td>\n",
       "    </tr>\n",
       "  </tbody>\n",
       "</table>\n",
       "</div>"
      ],
      "text/plain": [
       "         tfidf\n",
       "풍선    0.783576\n",
       "에디    0.460972\n",
       "선물    0.338317\n",
       "tv만화  0.155747\n",
       "친구    0.150039\n",
       "한국    0.110843\n",
       "엄마    0.000000\n",
       "뽀롱뽀롱  0.000000\n",
       "성장    0.000000\n",
       "순이    0.000000\n",
       "아기    0.000000\n",
       "아이    0.000000\n",
       "아주    0.000000\n",
       "아홉    0.000000\n",
       "위해    0.000000\n",
       "없음    0.000000\n",
       "겨울    0.000000\n",
       "율동    0.000000\n",
       "정말    0.000000\n",
       "준비    0.000000\n",
       "축구    0.000000\n",
       "크롱    0.000000\n",
       "통통이   0.000000\n",
       "핑크퐁   0.000000\n",
       "뽀로로   0.000000\n",
       "불어    0.000000\n",
       "보고    0.000000\n",
       "배달    0.000000\n",
       "계획    0.000000\n",
       "공룡    0.000000\n",
       "공연    0.000000\n",
       "공연장   0.000000\n",
       "교실    0.000000\n",
       "꺼병이   0.000000\n",
       "꽃잎    0.000000\n",
       "날씨    0.000000\n",
       "노래    0.000000\n",
       "노래율동  0.000000\n",
       "노랫소리  0.000000\n",
       "놀이    0.000000\n",
       "도움    0.000000\n",
       "돼지    0.000000\n",
       "루피    0.000000\n",
       "마샤    0.000000\n",
       "망원경   0.000000\n",
       "모두    0.000000\n",
       "모습    0.000000\n",
       "바람    0.000000\n",
       "발달    0.000000\n",
       "호기    0.000000"
      ]
     },
     "execution_count": 12,
     "metadata": {},
     "output_type": "execute_result"
    }
   ],
   "source": [
    "# 특정 문서의 weight 값 \n",
    "first_vector_tfidfvectorizer=tfidf_matrix[0] \n",
    " \n",
    "# place tf-idf values in a pandas data frame \n",
    "df_weight = pd.DataFrame(first_vector_tfidfvectorizer.T.todense(), \n",
    "                  index=tfidf.get_feature_names(), \n",
    "                  columns=[\"tfidf\"]) \n",
    "df_weight.sort_values(by=[\"tfidf\"],ascending=False)"
   ]
  },
  {
   "cell_type": "markdown",
   "id": "a6d00d02",
   "metadata": {},
   "source": [
    "## TF-IDF를 사용하여 단어의 중요도를 산출하였고, 선택된 100개의 단어를 t-SNE로 시각화"
   ]
  },
  {
   "cell_type": "code",
   "execution_count": 13,
   "id": "817ef0d9",
   "metadata": {},
   "outputs": [
    {
     "name": "stderr",
     "output_type": "stream",
     "text": [
      "C:\\Users\\admin\\anaconda3\\lib\\site-packages\\sklearn\\utils\\deprecation.py:87: FutureWarning: Function get_feature_names is deprecated; get_feature_names is deprecated in 1.0 and will be removed in 1.2. Please use get_feature_names_out instead.\n",
      "  warnings.warn(msg, category=FutureWarning)\n"
     ]
    }
   ],
   "source": [
    "tfidf_dict = tfidf.get_feature_names()\n",
    "data_array = tfidf_matrix.toarray()\n",
    "data = pd.DataFrame(data_array, columns=tfidf_dict)"
   ]
  },
  {
   "cell_type": "code",
   "execution_count": 14,
   "id": "4b3717ad",
   "metadata": {},
   "outputs": [],
   "source": [
    "tsne = TSNE(n_components=2, n_iter=1000, verbose=1)"
   ]
  },
  {
   "cell_type": "code",
   "execution_count": 15,
   "id": "71e94925",
   "metadata": {},
   "outputs": [
    {
     "name": "stderr",
     "output_type": "stream",
     "text": [
      "C:\\Users\\admin\\anaconda3\\lib\\site-packages\\sklearn\\manifold\\_t_sne.py:783: FutureWarning: The default initialization in TSNE will change from 'random' to 'pca' in 1.2.\n",
      "  FutureWarning,\n",
      "C:\\Users\\admin\\anaconda3\\lib\\site-packages\\sklearn\\manifold\\_t_sne.py:793: FutureWarning: The default learning rate in TSNE will change from 200.0 to 'auto' in 1.2.\n",
      "  FutureWarning,\n"
     ]
    },
    {
     "name": "stdout",
     "output_type": "stream",
     "text": [
      "[t-SNE] Computing 49 nearest neighbors...\n",
      "[t-SNE] Indexed 50 samples in 0.001s...\n",
      "[t-SNE] Computed neighbors for 50 samples in 0.028s...\n",
      "[t-SNE] Computed conditional probabilities for sample 50 / 50\n",
      "[t-SNE] Mean sigma: 15.334380\n",
      "[t-SNE] KL divergence after 250 iterations with early exaggeration: 48.864079\n",
      "[t-SNE] KL divergence after 1000 iterations: 0.374670\n"
     ]
    }
   ],
   "source": [
    "Z = tsne.fit_transform(data_array.T)"
   ]
  },
  {
   "cell_type": "code",
   "execution_count": 16,
   "id": "d3e88350",
   "metadata": {
    "scrolled": true
   },
   "outputs": [
    {
     "name": "stdout",
     "output_type": "stream",
     "text": [
      "tv만화\n",
      "겨울\n",
      "계획\n",
      "공룡\n",
      "공연\n",
      "공연장\n",
      "교실\n",
      "꺼병이\n",
      "꽃잎\n",
      "날씨\n",
      "노래\n",
      "노래율동\n",
      "노랫소리\n",
      "놀이\n",
      "도움\n",
      "돼지\n",
      "루피\n",
      "마샤\n",
      "망원경\n",
      "모두\n",
      "모습\n",
      "바람\n",
      "발달\n",
      "배달\n",
      "보고\n",
      "불어\n",
      "뽀로로\n",
      "뽀롱뽀롱\n",
      "선물\n",
      "성장\n",
      "순이\n",
      "아기\n",
      "아이\n",
      "아주\n",
      "아홉\n",
      "엄마\n",
      "없음\n",
      "에디\n",
      "위해\n",
      "율동\n",
      "정말\n",
      "준비\n",
      "축구\n",
      "친구\n",
      "크롱\n",
      "통통이\n",
      "풍선\n",
      "핑크퐁\n",
      "한국\n",
      "호기\n"
     ]
    },
    {
     "name": "stderr",
     "output_type": "stream",
     "text": [
      "C:\\Users\\admin\\anaconda3\\lib\\site-packages\\ipykernel_launcher.py:11: UserWarning: Glyph 8722 (\\N{MINUS SIGN}) missing from current font.\n",
      "  # This is added back by InteractiveShellApp.init_path()\n",
      "C:\\Users\\admin\\anaconda3\\lib\\site-packages\\IPython\\core\\pylabtools.py:151: UserWarning: Glyph 8722 (\\N{MINUS SIGN}) missing from current font.\n",
      "  fig.canvas.print_figure(bytes_io, **kw)\n"
     ]
    },
    {
     "data": {
      "image/png": "[encoded data removed]",
      "text/plain": [
       "<Figure size 432x288 with 1 Axes>"
      ]
     },
     "metadata": {
      "needs_background": "light"
     },
     "output_type": "display_data"
    }
   ],
   "source": [
    "from matplotlib import font_manager\n",
    "font_fname = 'C:/Windows/Fonts/malgunsl.ttf'\n",
    "font_family = font_manager.FontProperties(fname=font_fname).get_name()\n",
    "plt.rcParams[\"font.family\"] = font_family\n",
    "\n",
    "plt.scatter(Z[:,0], Z[:,1])\n",
    "for i in range(len(tfidf_dict)):\n",
    "    print(tfidf_dict[i])\n",
    "    plt.annotate(tfidf_dict[i], xy=(Z[i,0], Z[i,1]))\n",
    "\n",
    "plt.draw()"
   ]
  },
  {
   "cell_type": "markdown",
   "id": "91a47e72",
   "metadata": {},
   "source": [
    "## 클러스터링 시각화"
   ]
  },
  {
   "cell_type": "code",
   "execution_count": 17,
   "id": "64698085",
   "metadata": {},
   "outputs": [],
   "source": [
    "from sklearn.cluster import KMeans\n",
    "from sklearn.decomposition import PCA\n",
    "import matplotlib.pyplot as plt\n",
    "import seaborn as sns"
   ]
  },
  {
   "cell_type": "code",
   "execution_count": 18,
   "id": "cf1526c3",
   "metadata": {},
   "outputs": [
    {
     "data": {
      "image/png": "[encoded data removed]",
      "text/plain": [
       "<Figure size 1152x576 with 1 Axes>"
      ]
     },
     "metadata": {
      "needs_background": "light"
     },
     "output_type": "display_data"
    }
   ],
   "source": [
    "distortions = []\n",
    "K = range(1,10)\n",
    "for k in K:\n",
    "    kmeanModel = KMeans(n_clusters=k)\n",
    "    kmeanModel.fit(tfidf_matrix)\n",
    "    distortions.append(kmeanModel.inertia_)\n",
    "\n",
    "plt.figure(figsize=(16,8))\n",
    "plt.plot(K, distortions, 'bx-')\n",
    "plt.xlabel('k')\n",
    "plt.ylabel('Distortion')\n",
    "plt.title('The Elbow Method showing the optimal k')\n",
    "plt.show()"
   ]
  },
  {
   "cell_type": "code",
   "execution_count": 19,
   "id": "fc2ce613",
   "metadata": {},
   "outputs": [],
   "source": [
    "# initialize kmeans with 3 centroids\n",
    "kmeans = KMeans(n_clusters=3, random_state=42)\n",
    "# fit the model\n",
    "kmeans.fit(tfidf_matrix)\n",
    "# store cluster labels in a variable\n",
    "clusters = kmeans.labels_"
   ]
  },
  {
   "cell_type": "code",
   "execution_count": 20,
   "id": "725c0824",
   "metadata": {},
   "outputs": [],
   "source": [
    "# initialize PCA with 2 components\n",
    "pca = PCA(n_components=2, random_state=42)\n",
    "# pass X to the pca\n",
    "pca_vecs = pca.fit_transform(tfidf_matrix.toarray())\n",
    "# save the two dimensions in x0 and x1\n",
    "x0 = pca_vecs[:, 0]\n",
    "x1 = pca_vecs[:, 1]\n",
    "\n",
    "# assign clusters and PCA vectors to columns in the original dataframe\n",
    "df_cluster_tfidf = pd.DataFrame()\n",
    "df_cluster_tfidf['cluster'] = clusters\n",
    "df_cluster_tfidf['x0'] = x0\n",
    "df_cluster_tfidf['x1'] = x1"
   ]
  },
  {
   "cell_type": "code",
   "execution_count": 21,
   "id": "5190e72d",
   "metadata": {},
   "outputs": [
    {
     "name": "stderr",
     "output_type": "stream",
     "text": [
      "C:\\Users\\admin\\anaconda3\\lib\\site-packages\\IPython\\core\\pylabtools.py:151: UserWarning: Glyph 8722 (\\N{MINUS SIGN}) missing from current font.\n",
      "  fig.canvas.print_figure(bytes_io, **kw)\n"
     ]
    },
    {
     "data": {
      "image/png": "[encoded data removed]",
      "text/plain": [
       "<Figure size 864x504 with 1 Axes>"
      ]
     },
     "metadata": {
      "needs_background": "light"
     },
     "output_type": "display_data"
    }
   ],
   "source": [
    "# set image size\n",
    "plt.figure(figsize=(12, 7))\n",
    "# set a title\n",
    "plt.title(\"TF-IDF + KMeans clustering\", fontdict={\"fontsize\": 18})\n",
    "# set axes names\n",
    "plt.xlabel(\"X0\", fontdict={\"fontsize\": 16})\n",
    "plt.ylabel(\"X1\", fontdict={\"fontsize\": 16})\n",
    "# create scatter plot with seaborn, where hue is the class used to group the data\n",
    "sns.scatterplot(data=df_cluster_tfidf, x='x0', y='x1', hue='cluster', palette=\"viridis\")\n",
    "plt.show()"
   ]
  },
  {
   "cell_type": "code",
   "execution_count": null,
   "id": "587178b6",
   "metadata": {},
   "outputs": [],
   "source": []
  },
  {
   "cell_type": "code",
   "execution_count": null,
   "id": "b2641488",
   "metadata": {},
   "outputs": [],
   "source": []
  },
  {
   "cell_type": "code",
   "execution_count": null,
   "id": "0df9a8e1",
   "metadata": {},
   "outputs": [],
   "source": []
  },
  {
   "cell_type": "code",
   "execution_count": null,
   "id": "a3cf7d0c",
   "metadata": {},
   "outputs": [],
   "source": []
  },
  {
   "cell_type": "code",
   "execution_count": null,
   "id": "2365dd8d",
   "metadata": {},
   "outputs": [],
   "source": []
  },
  {
   "cell_type": "code",
   "execution_count": null,
   "id": "975e15a8",
   "metadata": {},
   "outputs": [],
   "source": []
  },
  {
   "cell_type": "code",
   "execution_count": null,
   "id": "836cf2ba",
   "metadata": {},
   "outputs": [],
   "source": []
  },
  {
   "cell_type": "code",
   "execution_count": null,
   "id": "2ef1a1c2",
   "metadata": {},
   "outputs": [],
   "source": []
  },
  {
   "cell_type": "code",
   "execution_count": null,
   "id": "2871574a",
   "metadata": {},
   "outputs": [],
   "source": []
  },
  {
   "cell_type": "code",
   "execution_count": null,
   "id": "fe1774f4",
   "metadata": {},
   "outputs": [],
   "source": []
  },
  {
   "cell_type": "code",
   "execution_count": null,
   "id": "f9541b0f",
   "metadata": {},
   "outputs": [],
   "source": []
  },
  {
   "cell_type": "code",
   "execution_count": null,
   "id": "bfd38d19",
   "metadata": {},
   "outputs": [],
   "source": []
  },
  {
   "cell_type": "code",
   "execution_count": null,
   "id": "06683c68",
   "metadata": {},
   "outputs": [],
   "source": []
  },
  {
   "cell_type": "code",
   "execution_count": null,
   "id": "b09d5f4c",
   "metadata": {},
   "outputs": [],
   "source": []
  },
  {
   "cell_type": "code",
   "execution_count": null,
   "id": "ae819279",
   "metadata": {},
   "outputs": [],
   "source": []
  },
  {
   "cell_type": "code",
   "execution_count": null,
   "id": "4a70d6df",
   "metadata": {},
   "outputs": [],
   "source": []
  },
  {
   "cell_type": "code",
   "execution_count": null,
   "id": "5f47a84d",
   "metadata": {},
   "outputs": [],
   "source": []
  },
  {
   "cell_type": "code",
   "execution_count": null,
   "id": "78e2e5f1",
   "metadata": {},
   "outputs": [],
   "source": []
  },
  {
   "cell_type": "code",
   "execution_count": null,
   "id": "632376bd",
   "metadata": {},
   "outputs": [],
   "source": []
  },
  {
   "cell_type": "code",
   "execution_count": null,
   "id": "9c935815",
   "metadata": {},
   "outputs": [],
   "source": []
  },
  {
   "cell_type": "code",
   "execution_count": null,
   "id": "17b10f9a",
   "metadata": {},
   "outputs": [],
   "source": []
  },
  {
   "cell_type": "code",
   "execution_count": null,
   "id": "a8f9ebad",
   "metadata": {},
   "outputs": [],
   "source": []
  },
  {
   "cell_type": "code",
   "execution_count": null,
   "id": "0b4ba3fc",
   "metadata": {},
   "outputs": [],
   "source": []
  },
  {
   "cell_type": "code",
   "execution_count": null,
   "id": "0564ce0a",
   "metadata": {},
   "outputs": [],
   "source": []
  },
  {
   "cell_type": "code",
   "execution_count": null,
   "id": "fb8b211e",
   "metadata": {},
   "outputs": [],
   "source": []
  },
  {
   "cell_type": "code",
   "execution_count": null,
   "id": "6cd86e52",
   "metadata": {},
   "outputs": [],
   "source": []
  }
 ],
 "metadata": {
  "kernelspec": {
   "display_name": "Python 3 (ipykernel)",
   "language": "python",
   "name": "python3"
  },
  "language_info": {
   "codemirror_mode": {
    "name": "ipython",
    "version": 3
   },
   "file_extension": ".py",
   "mimetype": "text/x-python",
   "name": "python",
   "nbconvert_exporter": "python",
   "pygments_lexer": "ipython3",
   "version": "3.7.0"
  }
 },
 "nbformat": 4,
 "nbformat_minor": 5
}
